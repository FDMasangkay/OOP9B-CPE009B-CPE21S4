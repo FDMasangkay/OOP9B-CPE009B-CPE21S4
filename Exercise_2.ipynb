{
  "nbformat": 4,
  "nbformat_minor": 0,
  "metadata": {
    "colab": {
      "provenance": [],
      "authorship_tag": "ABX9TyPxIiMmkSdNBpvBxDs4glAe",
      "include_colab_link": true
    },
    "kernelspec": {
      "name": "python3",
      "display_name": "Python 3"
    },
    "language_info": {
      "name": "python"
    }
  },
  "cells": [
    {
      "cell_type": "markdown",
      "metadata": {
        "id": "view-in-github",
        "colab_type": "text"
      },
      "source": [
        "<a href=\"https://colab.research.google.com/github/FDMasangkay/OOP9B-CPE009B-CPE21S4/blob/main/Exercise_2.ipynb\" target=\"_parent\"><img src=\"https://colab.research.google.com/assets/colab-badge.svg\" alt=\"Open In Colab\"/></a>"
      ]
    },
    {
      "cell_type": "code",
      "execution_count": 2,
      "metadata": {
        "colab": {
          "base_uri": "https://localhost:8080/"
        },
        "id": "Jdrg7W0UXR5j",
        "outputId": "63729fc3-aa0d-4915-d921-8dac38c787c9"
      },
      "outputs": [
        {
          "output_type": "execute_result",
          "data": {
            "text/plain": [
              "7"
            ]
          },
          "metadata": {},
          "execution_count": 2
        }
      ],
      "source": [
        "class foo:\n",
        "  def __init__(self, a, b):\n",
        "    self.a = a\n",
        "    self.b = b\n",
        "  def add(self):\n",
        "    return self.a + self.b\n",
        "\n",
        "foo_object = foo(3, 4)\n",
        "foo_object.add()"
      ]
    },
    {
      "cell_type": "code",
      "source": [
        "#Example 2\n",
        "#Complete the program by adding object name and\n",
        "#print output variable that display the instance/behavior of every function\n",
        "#Apply encapsulation by typing _ single underscore for private variable\n",
        "\n",
        "class Counter:\n",
        "  def __init__(self):\n",
        "    self._current = 0\n",
        "\n",
        "  def increment (self):\n",
        "    self._current += 1\n",
        "    return self._current\n",
        "\n",
        "  def decrement (self):\n",
        "    self._current -= 1\n",
        "    return self._current\n",
        "\n",
        "  def reset (self):\n",
        "    self._current = 0\n",
        "    return self._current\n",
        "\n",
        "  def get_current(self):\n",
        "      return self._current\n",
        "\n",
        "count = Counter()\n",
        "count.increment()\n",
        "print(count._current)\n",
        "print(count.increment())\n",
        "print(count.reset())\n",
        "print(count.increment())\n",
        "print(count.get_current())"
      ],
      "metadata": {
        "colab": {
          "base_uri": "https://localhost:8080/"
        },
        "id": "uddXgts-ZwDK",
        "outputId": "772319bd-42d3-4f09-ff12-14eb6fe855a6"
      },
      "execution_count": 43,
      "outputs": [
        {
          "output_type": "stream",
          "name": "stdout",
          "text": [
            "1\n",
            "2\n",
            "0\n",
            "1\n",
            "1\n"
          ]
        }
      ]
    }
  ]
}