{
  "nbformat": 4,
  "nbformat_minor": 0,
  "metadata": {
    "colab": {
      "provenance": [],
      "authorship_tag": "ABX9TyPFhnhvbzDA1VVeVDYv6Ng3",
      "include_colab_link": true
    },
    "kernelspec": {
      "name": "python3",
      "display_name": "Python 3"
    },
    "language_info": {
      "name": "python"
    }
  },
  "cells": [
    {
      "cell_type": "markdown",
      "metadata": {
        "id": "view-in-github",
        "colab_type": "text"
      },
      "source": [
        "<a href=\"https://colab.research.google.com/github/FDMasangkay/OOP9B-CPE009B-CPE21S4/blob/main/Laboratory_Activity_3_Inheritance%2C_Encapsulation%2C_and_Abstraction.ipynb\" target=\"_parent\"><img src=\"https://colab.research.google.com/assets/colab-badge.svg\" alt=\"Open In Colab\"/></a>"
      ]
    },
    {
      "cell_type": "code",
      "execution_count": 19,
      "metadata": {
        "colab": {
          "base_uri": "https://localhost:8080/"
        },
        "id": "4OPF0PcVhqva",
        "outputId": "7ffa952f-7beb-45ee-dd36-97ca8f0b62c2"
      },
      "outputs": [
        {
          "output_type": "stream",
          "name": "stdout",
          "text": [
            "Employee 1 (Full Time):\n",
            "Emp ID: 231019\n",
            "Emp Name: Juan\n",
            "Emp Address: Quezon City\n",
            "Allowance: 500\n",
            "Rate: 20\n",
            "\n",
            "Employee 2 (Part Time):\n",
            "Emp ID: 231312\n",
            "Emp Name: Maria\n",
            "Emp Address: Manila City\n",
            "Rate: 15\n",
            "\n",
            "Salary 1:\n",
            "Salary ID: 321092\n",
            "Salary: 5000\n",
            "Cut-off Date: 09-23-2024\n",
            "Days of Work: 20\n"
          ]
        }
      ],
      "source": [
        "class Employee:\n",
        "    def __init__(self, emp_id, emp_name, emp_address):\n",
        "        self.emp_id = emp_id\n",
        "        self.emp_name = emp_name\n",
        "        self.emp_address = emp_address\n",
        "\n",
        "class Fulltime(Employee):\n",
        "    def __init__(self, emp_id, emp_name, emp_address, allowance, rate):\n",
        "        super().__init__(emp_id, emp_name, emp_address)\n",
        "        self._allowance = allowance\n",
        "        self._rate = rate\n",
        "\n",
        "class PartTime(Employee):\n",
        "    def __init__(self, emp_id, emp_name, emp_address, rate):\n",
        "        super().__init__(emp_id, emp_name, emp_address)\n",
        "        self._rate = rate\n",
        "\n",
        "class Salary:\n",
        "    def __init__(self, salary_id, salary, cut_off_date, days_of_work):\n",
        "        self.salary_id = salary_id\n",
        "        self.salary = salary\n",
        "        self.cut_off_date = cut_off_date\n",
        "        self.days_of_work = days_of_work\n",
        "\n",
        "# Create instances of the classes\n",
        "emp1 = Fulltime(231019, \"Juan\", \"Quezon City\", 500, 20)\n",
        "emp2 = PartTime(231312, \"Maria\", \"Manila City\", 15)\n",
        "salary1 = Salary(321092, 5000, \"09-23-2024\", 20)\n",
        "\n",
        "# Print the attributes of the instances\n",
        "print(\"Employee 1 (Full Time):\")\n",
        "print(\"Emp ID:\", emp1.emp_id)\n",
        "print(\"Emp Name:\", emp1.emp_name)\n",
        "print(\"Emp Address:\", emp1.emp_address)\n",
        "print(\"Allowance:\", emp1._allowance)\n",
        "print(\"Rate:\", emp1._rate)\n",
        "\n",
        "print(\"\\nEmployee 2 (Part Time):\")\n",
        "print(\"Emp ID:\", emp2.emp_id)\n",
        "print(\"Emp Name:\", emp2.emp_name)\n",
        "print(\"Emp Address:\", emp2.emp_address)\n",
        "print(\"Rate:\", emp2._rate)\n",
        "\n",
        "print(\"\\nSalary 1:\")\n",
        "print(\"Salary ID:\", salary1.salary_id)\n",
        "print(\"Salary:\", salary1.salary)\n",
        "print(\"Cut-off Date:\", salary1.cut_off_date)\n",
        "print(\"Days of Work:\", salary1.days_of_work)"
      ]
    }
  ]
}
