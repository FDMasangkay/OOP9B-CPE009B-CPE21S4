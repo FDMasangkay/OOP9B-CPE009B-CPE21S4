{
  "nbformat": 4,
  "nbformat_minor": 0,
  "metadata": {
    "colab": {
      "provenance": [],
      "authorship_tag": "ABX9TyO6lsnVFqpMO40JnbRMyfdP",
      "include_colab_link": true
    },
    "kernelspec": {
      "name": "python3",
      "display_name": "Python 3"
    },
    "language_info": {
      "name": "python"
    }
  },
  "cells": [
    {
      "cell_type": "markdown",
      "metadata": {
        "id": "view-in-github",
        "colab_type": "text"
      },
      "source": [
        "<a href=\"https://colab.research.google.com/github/FDMasangkay/OOP9B-CPE009B-CPE21S4/blob/main/Exercise-1.ipynb\" target=\"_parent\"><img src=\"https://colab.research.google.com/assets/colab-badge.svg\" alt=\"Open In Colab\"/></a>"
      ]
    },
    {
      "cell_type": "code",
      "execution_count": 52,
      "metadata": {
        "colab": {
          "base_uri": "https://localhost:8080/",
          "height": 0
        },
        "id": "kPD5bSBdFWx1",
        "outputId": "5703b2a5-5e97-4d15-cf62-cc17c29ce329"
      },
      "outputs": [
        {
          "output_type": "stream",
          "name": "stdout",
          "text": [
            "My name is Fred. I'm 20 years old! My birthday is tomorrow!\n",
            "My name is Mark. I'm 30 years old! My birthday is January!\n",
            "My name is Maria. I'm 28 years old! My birthday is February!\n"
          ]
        }
      ],
      "source": [
        "# Super class  / parent class\n",
        "\n",
        "class Person:\n",
        "  def __init__ (self, name, age, birthday):\n",
        "    self.name = name\n",
        "    self.age = age\n",
        "    self.birthday = birthday # Defining atributes and identity\n",
        "\n",
        "\n",
        "  def person_attribute(self): # Defining method constructor\n",
        "    return f\"My name is {self.name}. I'm {self.age} years old! My birthday is {self.birthday}!\"\n",
        "\n",
        "class Teacher(Person): # Subclass constructor\n",
        "  pass\n",
        "class Student(Person): # Subclass constructor\n",
        "  pass\n",
        "\n",
        "\n",
        "# Object instantiation\n",
        "person = Person(\"Fred\", 20, \"tomorrow\")\n",
        "print(person.person_attribute())\n",
        "student = Student(\"Mark\", 30, \"January\")\n",
        "print(student.person_attribute())\n",
        "teacher = Teacher(\"Maria\", 28, \"February\")\n",
        "print(teacher.person_attribute())\n",
        "\n",
        "\n"
      ]
    },
    {
      "cell_type": "code",
      "source": [
        "\"\"\"\n",
        "Challenging Python Problem:\n",
        "\n",
        "*Create a python program that has the following:\n",
        "\"\"\"\n",
        "# 1. Super class named as Shapes ()\n",
        "class Shapes():\n",
        "  def __init__ (self, length = 0 , width = 0, side = 0):\n",
        "    # 5. Inherits the attributes of Superclass Shapes\n",
        "    self.length = length\n",
        "    self.width = width\n",
        "    self.side = side\n",
        "\n",
        "  def Perimeter_Rectangle (self):\n",
        "    return (self.length + self.width) * 2\n",
        "\n",
        "  def Area_Rectangle (self):\n",
        "     return self.length * self.width\n",
        "\n",
        "\n",
        "# 2. Subclasses: Rectangle and Square\n",
        "class Rectangle (Shapes):\n",
        "  pass\n",
        "  #3. Methods: Perimeter(), Area()\n",
        "\n",
        "# 2. Subclasses: Rectangle and Square\n",
        "class Square (Shapes):\n",
        "\n",
        "  #3. Methods: Perimeter(), Area()\n",
        "  def Perimeter_Square (self):\n",
        "    return self.side * 4\n",
        "\n",
        "  def Area_Square (self):\n",
        "    return self.side ** 2\n",
        "\n",
        "\n",
        "rectangle = Rectangle(length = 3, width = 5)\n",
        "square = Square (side = 6)\n",
        "\n",
        "print(f\"Perimeter of Rectangle: {rectangle.Perimeter_Rectangle()}\")\n",
        "print(f\"Area of Rectangle: {rectangle.Area_Rectangle()}\")\n",
        "\n",
        "print(f\"Perimeter of Square: {square.Perimeter_Square()}\")\n",
        "print(f\"Area of Square: {square.Area_Square()}\")"
      ],
      "metadata": {
        "colab": {
          "base_uri": "https://localhost:8080/"
        },
        "id": "BsufPckFTmC5",
        "outputId": "1ed8963c-556f-4d9d-9356-02e6d8aac247"
      },
      "execution_count": 69,
      "outputs": [
        {
          "output_type": "stream",
          "name": "stdout",
          "text": [
            "Perimeter of Rectangle: 16\n",
            "Area of Rectangle: 15\n",
            "Perimeter of Square: 24\n",
            "Area of Square: 36\n"
          ]
        }
      ]
    }
  ]
}